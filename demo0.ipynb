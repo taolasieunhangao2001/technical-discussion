{
  "nbformat": 4,
  "nbformat_minor": 0,
  "metadata": {
    "colab": {
      "provenance": [],
      "authorship_tag": "ABX9TyORyDzYVS9CO/qfTsGvzYLi",
      "include_colab_link": true
    },
    "kernelspec": {
      "name": "python3",
      "display_name": "Python 3"
    },
    "language_info": {
      "name": "python"
    }
  },
  "cells": [
    {
      "cell_type": "markdown",
      "metadata": {
        "id": "view-in-github",
        "colab_type": "text"
      },
      "source": [
        "<a href=\"https://colab.research.google.com/github/taolasieunhangao2001/technical-discussion/blob/main/demo0.ipynb\" target=\"_parent\"><img src=\"https://colab.research.google.com/assets/colab-badge.svg\" alt=\"Open In Colab\"/></a>"
      ]
    },
    {
      "cell_type": "code",
      "execution_count": 8,
      "metadata": {
        "id": "oMPdAz5-qdCv"
      },
      "outputs": [],
      "source": [
        "def hello():\n",
        "  return \"hi\"\n",
        "  hello()"
      ]
    },
    {
      "cell_type": "markdown",
      "source": [
        "EDA"
      ],
      "metadata": {
        "id": "Fd2eXRpTrFgv"
      }
    },
    {
      "cell_type": "code",
      "source": [],
      "metadata": {
        "id": "UlXM0hqVq694"
      },
      "execution_count": 6,
      "outputs": []
    }
  ]
}